{
 "cells": [
  {
   "cell_type": "code",
   "execution_count": null,
   "metadata": {},
   "outputs": [],
   "source": [
    "# -------- Code Outline -------- #\n",
    "# This code extracts the ECG signal from the MIT database."
   ]
  },
  {
   "cell_type": "code",
   "execution_count": 60,
   "metadata": {},
   "outputs": [],
   "source": [
    "import wfdb\n",
    "import numpy as np\n",
    "import pickle\n",
    "\n",
    "# NOTE: Recordings 04936 and 05091 were not converted due to incorrect labels "
   ]
  },
  {
   "cell_type": "code",
   "execution_count": 61,
   "metadata": {},
   "outputs": [],
   "source": [
    "# -------- Extraction Function -------- #\n",
    "# This is a function that takes in the raw data and turns them into numpy arrays that can be saved with pickle.\n",
    "# Each file contains TWO ECG recordings. This extracts the signal from the first lead but it can be changed to \n",
    "# the second lead by changing d_signal[i,0] to d_signal[i,1]\n",
    "\n",
    "\n",
    "def extract_data(filename):\n",
    "    record = wfdb.rdrecord('afdb/0{}'.format(filename))\n",
    "    d_signal = record.adc()\n",
    "    V_signal = np.empty(int(d_signal.shape[0]))\n",
    "    \n",
    "    for i in range(int(d_signal.shape[0])):\n",
    "        V_signal[i] = d_signal[i,0]\n",
    "        \n",
    "    # This normalises the data so that the max value is 1\n",
    "    V_signal /= max(V_signal)\n",
    "    return V_signal"
   ]
  },
  {
   "cell_type": "code",
   "execution_count": 76,
   "metadata": {},
   "outputs": [],
   "source": [
    "# -------- Save as pickle -------- #\n",
    "\n",
    "filename = 8455\n",
    "# This line reads the data from the ECG files and puts it into an array\n",
    "data_array = extract_data(filename) \n",
    "\n",
    "\n",
    "# This line uses pickle to save the file as a .pkl file\n",
    "with open('{}.pkl'.format(filename), 'wb') as f:\n",
    "    pickle.dump(data_array, f)"
   ]
  }
 ],
 "metadata": {
  "kernelspec": {
   "display_name": "Python 3",
   "language": "python",
   "name": "python3"
  },
  "language_info": {
   "codemirror_mode": {
    "name": "ipython",
    "version": 3
   },
   "file_extension": ".py",
   "mimetype": "text/x-python",
   "name": "python",
   "nbconvert_exporter": "python",
   "pygments_lexer": "ipython3",
   "version": "3.6.5"
  }
 },
 "nbformat": 4,
 "nbformat_minor": 2
}
