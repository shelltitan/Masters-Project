{
 "cells": [
  {
   "cell_type": "code",
   "execution_count": null,
   "metadata": {},
   "outputs": [],
   "source": [
    "# -------- code outline ------- #\n",
    "# This code starts with a function to remove the noise from the signal. Then there's a loop that \n",
    "# reads in each file, performs the noise removal, then saves the noise removed signal as a pickle file"
   ]
  },
  {
   "cell_type": "code",
   "execution_count": null,
   "metadata": {},
   "outputs": [],
   "source": [
    "import numpy as np\n",
    "import matplotlib.pyplot as plt \n",
    "import pickle\n",
    "import pywt \n",
    "import scipy\n",
    "from scipy import signal\n"
   ]
  },
  {
   "cell_type": "code",
   "execution_count": null,
   "metadata": {},
   "outputs": [],
   "source": [
    "# -------- Noise Filtering -------- #\n",
    "# This is the function that performs the noise removal of the signal\n",
    "def DWT(signal, thresh = 0.004, wavelet=\"db4\"):\n",
    "    thresh = thresh*np.nanmax(signal)\n",
    "    coeff = pywt.wavedec(signal, wavelet, mode=\"smooth\")\n",
    "    coeff[17:] = (pywt.threshold(i, value=thresh, mode=\"soft\" ) for i in coeff[17:])\n",
    "    reconstructed_signal = pywt.waverec(coeff, wavelet, mode=\"smooth\" )\n",
    "    return reconstructed_signal"
   ]
  },
  {
   "cell_type": "code",
   "execution_count": null,
   "metadata": {},
   "outputs": [],
   "source": [
    "# This loops over all the files to perform the DWT on \n",
    "for i in range(1,22):\n",
    "    with open('Data Extraction/Raw Data/afdb_arrays/{}_array.pkl'.format(i), 'rb') as f:\n",
    "        Data = pickle.load(f)\n",
    "    # Use the function to filter out the noise\n",
    "    Data_new = DWT(Data,thresh=0.004,wavelet='db4')\n",
    "\n",
    "    # This line uses pickle to save the de noised array as a .pkl file\n",
    "    with open('De-Noised Data/{}_de-noised.pkl'.format(i), 'wb') as f:\n",
    "        pickle.dump(Data_new, f)"
   ]
  },
  {
   "cell_type": "code",
   "execution_count": null,
   "metadata": {},
   "outputs": [],
   "source": []
  }
 ],
 "metadata": {
  "kernelspec": {
   "display_name": "Python 3",
   "language": "python",
   "name": "python3"
  },
  "language_info": {
   "codemirror_mode": {
    "name": "ipython",
    "version": 3
   },
   "file_extension": ".py",
   "mimetype": "text/x-python",
   "name": "python",
   "nbconvert_exporter": "python",
   "pygments_lexer": "ipython3",
   "version": "3.7.4"
  }
 },
 "nbformat": 4,
 "nbformat_minor": 2
}
