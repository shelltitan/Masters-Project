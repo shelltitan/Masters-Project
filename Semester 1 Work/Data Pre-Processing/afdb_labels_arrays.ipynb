{
 "cells": [
  {
   "cell_type": "code",
   "execution_count": null,
   "metadata": {},
   "outputs": [],
   "source": [
    "# -------- Code Outline -------- #\n",
    "# This code extracts the annotations of the rhythms from the MIT database"
   ]
  },
  {
   "cell_type": "code",
   "execution_count": 3,
   "metadata": {},
   "outputs": [],
   "source": [
    "import wfdb\n",
    "import numpy as np\n",
    "import pickle\n",
    "import matplotlib.pyplot as plt\n",
    "# NOTE: Recordings 04936 and 05091 were not converted due to incorrect labels "
   ]
  },
  {
   "cell_type": "markdown",
   "metadata": {},
   "source": [
    "As a test to see that you're reading the files correctly, you can compare your readings to [the MIT data base](https://www.physionet.org/content/afdb/1.0.0/) then clicking on \"Visualize Waveforms\". By choosing one of the files to read then clicking on \"Tables\", you can compare the the annotations. I'm not entirely sure why the ann.aux_note always returns alternating \"N,AFIB,N,AFIB\" but they all seem to match up with the annotations on the website, so I have assumed that any label on a heart beat means that it is AF.\n",
    "\n"
   ]
  },
  {
   "cell_type": "code",
   "execution_count": 61,
   "metadata": {},
   "outputs": [
    {
     "name": "stdout",
     "output_type": "stream",
     "text": [
      "17\n",
      "['(N', '(AFIB', '(N', '(AFIB', '(N', '(AFIB', '(AFL', '(AFIB', '(AFL', '(AFIB', '(AFL', '(AFIB', '(AFL', '(AFIB', '(N', '(AFIB', '(N']\n"
     ]
    }
   ],
   "source": [
    "# This reads in the annotations from the file\n",
    "ann = wfdb.rdann('afdb/04908','atr',return_label_elements=['description'])\n",
    "\n",
    "# This gets the positions of the annotations.\n",
    "# To get the position that they happened at in hours then divide it by (250*60*60). It is useful to be able \n",
    "# to see when they happened in hours because then you can compare it with the link above to see if they're \n",
    "# correct.\n",
    "print(len(ann.sample))\n",
    "\n",
    "# This gets the description of the heart beat annotations (only for AF heartbeats). This will be less useful\n",
    "# right now as all we need is the position so we can label a beat as AF later.\n",
    "print(ann.aux_note)"
   ]
  },
  {
   "cell_type": "code",
   "execution_count": 107,
   "metadata": {},
   "outputs": [],
   "source": [
    "# Function to read the data and save an array of the positions of the arrhythmia \n",
    "def extract_anns(filename):\n",
    "    ann = wfdb.rdann('afdb/0{}'.format(filename),'atr',return_label_elements=['description'])\n",
    "    annotations = ann.sample\n",
    "    return annotations"
   ]
  },
  {
   "cell_type": "code",
   "execution_count": 108,
   "metadata": {},
   "outputs": [],
   "source": [
    "filename = 8455\n",
    "anns = extract_anns(filename)\n",
    "\n",
    "# This saves the annotation array as a pickle file\n",
    "with open('{}_labels.pkl'.format(filename), 'wb') as f:\n",
    "    pickle.dump(anns, f)"
   ]
  },
  {
   "cell_type": "code",
   "execution_count": 113,
   "metadata": {},
   "outputs": [
    {
     "name": "stdout",
     "output_type": "stream",
     "text": [
      "79\n"
     ]
    }
   ],
   "source": [
    "# This is here just as a test to see if it matches up with the database values\n",
    "\n",
    "with open('afdb_labels_arrays/8219_labels.pkl', 'rb') as f:\n",
    "    Data = pickle.load(f)\n",
    "\n",
    "print(len(Data))"
   ]
  },
  {
   "cell_type": "code",
   "execution_count": null,
   "metadata": {},
   "outputs": [],
   "source": [
    "# Function that reads in the annotation data and saves an array saying what the specific type of rhythm it is."
   ]
  },
  {
   "cell_type": "code",
   "execution_count": 62,
   "metadata": {},
   "outputs": [],
   "source": [
    "def extract_anns_desc(filename):\n",
    "    ann_desc = wfdb.rdann('afdb/0{}'.format(filename),'atr',return_label_elements=['symbol'])\n",
    "    notes = ann_desc.aux_note\n",
    "    return notes"
   ]
  },
  {
   "cell_type": "code",
   "execution_count": 65,
   "metadata": {},
   "outputs": [
    {
     "name": "stdout",
     "output_type": "stream",
     "text": [
      "['(N', '(AFIB', '(N', '(AFIB', '(N', '(AFIB', '(AFL', '(AFIB', '(AFL', '(AFIB', '(AFL', '(AFIB', '(AFL', '(AFIB', '(N', '(AFIB', '(N']\n"
     ]
    }
   ],
   "source": [
    "a = extract_anns_desc(4908)\n",
    "print(a)"
   ]
  }
 ],
 "metadata": {
  "kernelspec": {
   "display_name": "Python 3",
   "language": "python",
   "name": "python3"
  },
  "language_info": {
   "codemirror_mode": {
    "name": "ipython",
    "version": 3
   },
   "file_extension": ".py",
   "mimetype": "text/x-python",
   "name": "python",
   "nbconvert_exporter": "python",
   "pygments_lexer": "ipython3",
   "version": "3.6.5"
  }
 },
 "nbformat": 4,
 "nbformat_minor": 2
}
