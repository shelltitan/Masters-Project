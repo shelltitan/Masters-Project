{
 "cells": [
  {
   "cell_type": "code",
   "execution_count": 165,
   "metadata": {},
   "outputs": [],
   "source": [
    "# -------- Code Outline -------- #\n",
    "# Create a moving window that scrolls over the scatter plots\n",
    "# This window will then flag AF if there is one AF sample within\n",
    "# The window"
   ]
  },
  {
   "cell_type": "code",
   "execution_count": 166,
   "metadata": {},
   "outputs": [],
   "source": [
    "import numpy as np\n",
    "import matplotlib.pyplot as plt \n",
    "import pickle"
   ]
  },
  {
   "cell_type": "code",
   "execution_count": 167,
   "metadata": {},
   "outputs": [],
   "source": [
    "# -------- Loader -------- #\n",
    "# Load in the RR interval length, segmented data and the label array\n",
    "# Which tells us if an RR interval is AF or not\n",
    "\n",
    "# Load in the segments\n",
    "with open('RR Interval Data/8455_RR_Interval_Length_Index.pkl', 'rb') as f:\n",
    "    index = pickle.load(f)\n",
    "    \n",
    "with open('RR Interval Data/8455_RR_Interval_Length.pkl', 'rb') as f:\n",
    "    interval_length = pickle.load(f)\n",
    "    \n",
    "# Load in the labels to tell us if that RR interval is AF or not\n",
    "with open('RR Interval Data/8455_AF_truth_array.pkl', 'rb') as f:\n",
    "    labels = pickle.load(f)"
   ]
  },
  {
   "cell_type": "code",
   "execution_count": 168,
   "metadata": {},
   "outputs": [],
   "source": [
    "# -------- Normaliser -------- #\n",
    "# Normalise all the RR interval data\n",
    "# This makes it suitable for RNN use later on\n",
    "\n",
    "mean = np.mean(interval_length)\n",
    "interval_length -= mean\n",
    "std = np.std(interval_length)\n",
    "interval_length /= std"
   ]
  },
  {
   "cell_type": "code",
   "execution_count": 169,
   "metadata": {},
   "outputs": [],
   "source": [
    "# -------- Window Strides -------- #\n",
    "# We want windows of 80 samples wide traversing the scatter plot\n",
    "# Then if there is at least one AF interval in the window, we set\n",
    "# The window value to true\n",
    "\n",
    "labels = np.array(labels)\n",
    "\n",
    "# Create a window index number array\n",
    "window_index = np.arange(1,(len(index) - 80) + 1, 1)\n",
    "# Create a window size array (The number gives us the final x\n",
    "# Value the window ends on)\n",
    "window_width = np.arange(80, len(index), 1)\n",
    "# Create an array to store window truth values\n",
    "window_AF = np.array(window_index)\n",
    "\n",
    "# Now we need to loop over all the labels and if there is a \n",
    "# 1 (label for AF) then we assign that window true (1)\n",
    "# If not then we assign it false (0)\n",
    "\n",
    "for c, i in enumerate(window_width):\n",
    "    if (any(labels[(i - 80):(i - 1)]) == True):\n",
    "        window_AF[c] = 1\n",
    "    else:\n",
    "        window_AF[c] = 0"
   ]
  },
  {
   "cell_type": "code",
   "execution_count": 170,
   "metadata": {},
   "outputs": [],
   "source": [
    "# Now we need to extract each windows RR intervals\n",
    "# Into sub arrays that we can feed into the RNN along with the label\n",
    "\n",
    "window_arrays = []\n",
    "\n",
    "for i,window_length in enumerate(window_width):\n",
    "    window_arrays.append(interval_length[window_length - 80:window_length])"
   ]
  },
  {
   "cell_type": "code",
   "execution_count": 171,
   "metadata": {},
   "outputs": [],
   "source": [
    "# -------- Saver -------- #\n",
    "# Now that we have the window arrays and their labels we can\n",
    "# Save these in a separate pickle file and use them for the RNN\n",
    "\n",
    "# Export the window arrays\n",
    "\n",
    "filename = '8455_Window_Arrays'\n",
    "# This line uses pickle to save the window arrays as a .pkl file\n",
    "\n",
    "with open('{}.pkl'.format(filename), 'wb') as f:\n",
    "     pickle.dump(window_arrays, f)\n",
    "        \n",
    "# Now export the window labels\n",
    "\n",
    "# filename_2 = '8455_Window_Labels'\n",
    "\n",
    "# This line uses pickle to save the window labels as a .pkl file\n",
    "\n",
    "# with open('{}.pkl'.format(filename_2), 'wb') as f:\n",
    "#      pickle.dump(window_AF, f)"
   ]
  }
 ],
 "metadata": {
  "kernelspec": {
   "display_name": "Python 3",
   "language": "python",
   "name": "python3"
  },
  "language_info": {
   "codemirror_mode": {
    "name": "ipython",
    "version": 3
   },
   "file_extension": ".py",
   "mimetype": "text/x-python",
   "name": "python",
   "nbconvert_exporter": "python",
   "pygments_lexer": "ipython3",
   "version": "3.7.3"
  }
 },
 "nbformat": 4,
 "nbformat_minor": 2
}
