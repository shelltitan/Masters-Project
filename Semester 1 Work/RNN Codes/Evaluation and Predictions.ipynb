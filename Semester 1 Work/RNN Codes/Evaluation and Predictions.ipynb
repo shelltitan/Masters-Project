{
 "cells": [
  {
   "cell_type": "code",
   "execution_count": 1,
   "metadata": {},
   "outputs": [],
   "source": [
    "# -------- Code Outline -------- #\n",
    "# Code calculates the evaluations and the predictions from\n",
    "# The saved RNN model. (preferably do this section on a high powered\n",
    "# Computer as it takes a while)"
   ]
  },
  {
   "cell_type": "code",
   "execution_count": 2,
   "metadata": {},
   "outputs": [
    {
     "name": "stderr",
     "output_type": "stream",
     "text": [
      "Using TensorFlow backend.\n"
     ]
    }
   ],
   "source": [
    "# Used to open pickle files and plot figures\n",
    "import pickle\n",
    "import matplotlib.pyplot as plt\n",
    "# These all used to create neural network\n",
    "import keras\n",
    "from keras.models import Sequential\n",
    "from keras.layers import Bidirectional, LSTM, GlobalMaxPool1D, Dense, Dropout\n",
    "import tensorflow as tf\n",
    "# These used to open all the files at once into one large list of arrays\n",
    "import os\n",
    "import numpy as np"
   ]
  },
  {
   "cell_type": "code",
   "execution_count": 3,
   "metadata": {},
   "outputs": [],
   "source": [
    "# -------- Loader -------- #\n",
    "# First we need to input the model and weights and re-create it\n",
    "# As well as loading in the test data and the training data\n",
    "\n",
    "# Load in training data\n",
    "with open('data sets/Window_80_Training_Set_x.pkl', 'rb') as f:\n",
    "    train_x = pickle.load(f)\n",
    "with open('data sets/Window_80_Training_Set_y.pkl', 'rb') as f:\n",
    "    train_y = pickle.load(f)\n",
    "    \n",
    "# Load in test data\n",
    "with open('data sets/Window_80_Test_Set_x.pkl', 'rb') as f:\n",
    "    test_x = pickle.load(f)\n",
    "with open('data sets/Window_80_Test_Set_y.pkl', 'rb') as f:\n",
    "    test_y = pickle.load(f)"
   ]
  },
  {
   "cell_type": "code",
   "execution_count": 4,
   "metadata": {},
   "outputs": [
    {
     "data": {
      "text/plain": [
       "(774144,)"
      ]
     },
     "execution_count": 4,
     "metadata": {},
     "output_type": "execute_result"
    }
   ],
   "source": [
    "train_x.shape\n",
    "train_y.shape"
   ]
  },
  {
   "cell_type": "code",
   "execution_count": 5,
   "metadata": {},
   "outputs": [],
   "source": [
    "# -------- Model -------- #\n",
    "# We copy over the model function from the RNN code so that we can replicate\n",
    "# A prediction model version\n",
    "\n",
    "def createModel(batch_size, time_steps, features):\n",
    "    initializer = \"glorot_uniform\" # xavier normal\n",
    "    model = Sequential();\n",
    "    # output shape = (batch_size, timesteps, units)\n",
    "    # batch size specifies the number of SUBSEQUENT windows passed per training step\n",
    "    model.add(Bidirectional(LSTM(units=200,\n",
    "                                 return_sequences=True, # Many to many layer output\n",
    "                                 stateful=False, # Subsequent batches are not independant\n",
    "                                 # Reinitalize subsequent training steps with previous information\n",
    "                                 # Overcomes memory limits in feeding in data\n",
    "                                 recurrent_dropout=0.1,\n",
    "                                 activation='sigmoid',\n",
    "                                 bias_initializer=initializer,\n",
    "                                 kernel_initializer=initializer),\n",
    "                                 merge_mode=\"concat\", batch_input_shape = (batch_size, time_steps, features))) # LSTM Dropout\n",
    "    model.add(GlobalMaxPool1D())#input_shape=(400, 100)))\n",
    "    model.add(Dense(units=50, bias_initializer=initializer, kernel_initializer=initializer, activation=\"relu\", input_shape=(100, 400)))\n",
    "    model.add(Dropout(rate=0.1))\n",
    "    model.add(Dense(units=1, activation=\"sigmoid\", bias_initializer=initializer, kernel_initializer=initializer))\n",
    "    return model"
   ]
  },
  {
   "cell_type": "code",
   "execution_count": 6,
   "metadata": {},
   "outputs": [
    {
     "name": "stdout",
     "output_type": "stream",
     "text": [
      "WARNING:tensorflow:From C:\\Anaconda3\\lib\\site-packages\\keras\\backend\\tensorflow_backend.py:74: The name tf.get_default_graph is deprecated. Please use tf.compat.v1.get_default_graph instead.\n",
      "\n",
      "WARNING:tensorflow:From C:\\Anaconda3\\lib\\site-packages\\keras\\backend\\tensorflow_backend.py:517: The name tf.placeholder is deprecated. Please use tf.compat.v1.placeholder instead.\n",
      "\n",
      "WARNING:tensorflow:From C:\\Anaconda3\\lib\\site-packages\\keras\\backend\\tensorflow_backend.py:4138: The name tf.random_uniform is deprecated. Please use tf.random.uniform instead.\n",
      "\n",
      "WARNING:tensorflow:From C:\\Anaconda3\\lib\\site-packages\\keras\\backend\\tensorflow_backend.py:133: The name tf.placeholder_with_default is deprecated. Please use tf.compat.v1.placeholder_with_default instead.\n",
      "\n",
      "WARNING:tensorflow:From C:\\Anaconda3\\lib\\site-packages\\keras\\backend\\tensorflow_backend.py:3445: calling dropout (from tensorflow.python.ops.nn_ops) with keep_prob is deprecated and will be removed in a future version.\n",
      "Instructions for updating:\n",
      "Please use `rate` instead of `keep_prob`. Rate should be set to `rate = 1 - keep_prob`.\n",
      "_________________________________________________________________\n",
      "Layer (type)                 Output Shape              Param #   \n",
      "=================================================================\n",
      "bidirectional_1 (Bidirection (1, 80, 400)              323200    \n",
      "_________________________________________________________________\n",
      "global_max_pooling1d_1 (Glob (1, 400)                  0         \n",
      "_________________________________________________________________\n",
      "dense_1 (Dense)              (1, 50)                   20050     \n",
      "_________________________________________________________________\n",
      "dropout_1 (Dropout)          (1, 50)                   0         \n",
      "_________________________________________________________________\n",
      "dense_2 (Dense)              (1, 1)                    51        \n",
      "=================================================================\n",
      "Total params: 343,301\n",
      "Trainable params: 343,301\n",
      "Non-trainable params: 0\n",
      "_________________________________________________________________\n",
      "None\n",
      "WARNING:tensorflow:From C:\\Anaconda3\\lib\\site-packages\\keras\\optimizers.py:790: The name tf.train.Optimizer is deprecated. Please use tf.compat.v1.train.Optimizer instead.\n",
      "\n",
      "WARNING:tensorflow:From C:\\Anaconda3\\lib\\site-packages\\keras\\backend\\tensorflow_backend.py:3376: The name tf.log is deprecated. Please use tf.math.log instead.\n",
      "\n",
      "WARNING:tensorflow:From C:\\Anaconda3\\lib\\site-packages\\tensorflow\\python\\ops\\nn_impl.py:180: add_dispatch_support.<locals>.wrapper (from tensorflow.python.ops.array_ops) is deprecated and will be removed in a future version.\n",
      "Instructions for updating:\n",
      "Use tf.where in 2.0, which has the same broadcast rule as np.where\n"
     ]
    }
   ],
   "source": [
    "# -------- Create Model -------- #\n",
    "# This model is identical to the RNN model however we now have the batch\n",
    "# Size set to 1 for prediction and evaluation\n",
    "\n",
    "train_model = createModel(1, 80, 1)\n",
    "print(train_model.summary())\n",
    "# Use Adam optimizer as per paper\n",
    "opt = keras.optimizers.Adam(lr=0.001)  #, beta_1=0.9, beta_2=0.999, epsilon=10e-8, decay=0.0, amsgrad=False)\n",
    "# Binary_crossentropy as per paper - because binary classification\n",
    "train_model.compile(optimizer=opt, loss = 'binary_crossentropy', metrics=[\"binary_accuracy\", \"mae\"])#metrics = ['mse', 'mae', 'accuracy'])"
   ]
  },
  {
   "cell_type": "code",
   "execution_count": 7,
   "metadata": {},
   "outputs": [],
   "source": [
    "# Now load in the model weights after creating an identical model\n",
    "\n",
    "train_model.load_weights(\"saved_model/model_weight-80.h5\")"
   ]
  },
  {
   "cell_type": "code",
   "execution_count": 8,
   "metadata": {},
   "outputs": [],
   "source": [
    "# -------- Predictions -------- #\n",
    "# We need the prediction array so that we can calculate sensitivies and specificities\n",
    "\n",
    "# Now we have the model we can evaluate on test and training set\n",
    "\n",
    "# First predict on test set\n",
    "# predictions = train_model.predict(test_x, batch_size = 1, verbose = True)"
   ]
  },
  {
   "cell_type": "code",
   "execution_count": 11,
   "metadata": {},
   "outputs": [],
   "source": [
    "# -------- Output the predictions -------- #\n",
    "\n",
    "# filename = 'Window_80_predictions'\n",
    "# This line uses pickle to save the window arrays as a .pkl file\n",
    "\n",
    "# with open('{}.pkl'.format(filename), 'wb') as f:\n",
    "#      pickle.dump(predictions, f)"
   ]
  },
  {
   "cell_type": "code",
   "execution_count": 15,
   "metadata": {},
   "outputs": [
    {
     "name": "stdout",
     "output_type": "stream",
     "text": [
      "258401/258401 [==============================] - 6838s 26ms/step\n"
     ]
    },
    {
     "data": {
      "text/plain": [
       "[0.0031559535639030375, 0.9988970630918611, 0.0018881784765436493]"
      ]
     },
     "execution_count": 15,
     "metadata": {},
     "output_type": "execute_result"
    }
   ],
   "source": [
    "# -------- Evaluator -------- #\n",
    "# Evaluate on both the test and the training set to find out the\n",
    "# Overall loss and metrics for the model\n",
    "\n",
    "# Now evaluate on test set\n",
    "train_model.evaluate(test_x, test_y, batch_size = 1, verbose = True)"
   ]
  },
  {
   "cell_type": "code",
   "execution_count": 16,
   "metadata": {},
   "outputs": [
    {
     "name": "stdout",
     "output_type": "stream",
     "text": [
      "774144/774144 [==============================] - 20167s 26ms/step\n"
     ]
    },
    {
     "data": {
      "text/plain": [
       "[0.002377908284366665, 0.9992171999007936, 0.0015763516335619654]"
      ]
     },
     "execution_count": 16,
     "metadata": {},
     "output_type": "execute_result"
    }
   ],
   "source": [
    "# Evaluate on the training set (final check)\n",
    "train_model.evaluate(train_x, train_y, batch_size = 1, verbose = True)"
   ]
  }
 ],
 "metadata": {
  "kernelspec": {
   "display_name": "Python 3",
   "language": "python",
   "name": "python3"
  },
  "language_info": {
   "codemirror_mode": {
    "name": "ipython",
    "version": 3
   },
   "file_extension": ".py",
   "mimetype": "text/x-python",
   "name": "python",
   "nbconvert_exporter": "python",
   "pygments_lexer": "ipython3",
   "version": "3.7.3"
  }
 },
 "nbformat": 4,
 "nbformat_minor": 2
}
