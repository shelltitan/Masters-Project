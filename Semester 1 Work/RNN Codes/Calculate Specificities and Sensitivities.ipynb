{
 "cells": [
  {
   "cell_type": "code",
   "execution_count": 1,
   "metadata": {},
   "outputs": [],
   "source": [
    "# -------- Code Outline -------- #\n",
    "# Code calculates the specificities and sensitivities of the model\n",
    "# On both the training set and the testing set"
   ]
  },
  {
   "cell_type": "code",
   "execution_count": 2,
   "metadata": {},
   "outputs": [
    {
     "name": "stderr",
     "output_type": "stream",
     "text": [
      "Using TensorFlow backend.\n"
     ]
    }
   ],
   "source": [
    "import tensorflow as tf\n",
    "# Need for false positives etc (Note: Tensorflow version 2 has this already set by\n",
    "# Default however at time of use we had an earlier version 1.14)\n",
    "tf.enable_eager_execution()\n",
    "# Used to open pickle files and plot figures\n",
    "import pickle\n",
    "import matplotlib.pyplot as plt\n",
    "# These all used to create neural network\n",
    "import keras\n",
    "from keras.models import Sequential\n",
    "from keras.layers import Bidirectional, LSTM, GlobalMaxPool1D, Dense, Dropout\n",
    "# These used to open all the files at once into one large list of arrays\n",
    "import os\n",
    "import numpy as np"
   ]
  },
  {
   "cell_type": "code",
   "execution_count": 10,
   "metadata": {},
   "outputs": [
    {
     "name": "stdout",
     "output_type": "stream",
     "text": [
      "(258401,)\n",
      "(258401, 1)\n",
      "(258401,)\n"
     ]
    }
   ],
   "source": [
    "# -------- Loader -------- #\n",
    "# Load in all the predictions from the other file predictions and evaluations\n",
    "\n",
    "with open('Window_80_predictions.pkl', 'rb') as f:\n",
    "    predictions = pickle.load(f)\n",
    "\n",
    "print(test_y.shape)\n",
    "print(predictions.shape)\n",
    "\n",
    "# Get to same dimensions for later use \n",
    "predictions = predictions.reshape((test_y.shape[0],))\n",
    "print(predictions.shape)"
   ]
  },
  {
   "cell_type": "code",
   "execution_count": 12,
   "metadata": {},
   "outputs": [
    {
     "name": "stdout",
     "output_type": "stream",
     "text": [
      "False positives:  160.0\n",
      "False negatives:  125.0\n",
      "True positives:  120428.0\n",
      "True negatives:  137688.0\n"
     ]
    }
   ],
   "source": [
    "# -------- True/False values -------- #\n",
    "# Calculate the number of false pos/neg and true pos/neg\n",
    "# Using tensorflows in-built function. We can then use these\n",
    "# To calculate specificity and sensitivity\n",
    "\n",
    "# Now we can find out the specificities and sensitivities:\n",
    "# Note that the .result() function from tensorflow returns a tensor\n",
    "# In order to see the actual true number you need to convert to numpy array\n",
    "# This is done via .numpy() and this is where we needed tf.enable_eager_execution()\n",
    "\n",
    "# False positives \n",
    "false_positives = tf.keras.metrics.FalsePositives()\n",
    "false_positives.update_state(test_y, predictions)\n",
    "print('False positives: ', false_positives.result().numpy())\n",
    "\n",
    "# False negatives\n",
    "false_negatives = tf.keras.metrics.FalseNegatives()\n",
    "false_negatives.update_state(test_y, predictions)\n",
    "print('False negatives: ', false_negatives.result().numpy()) \n",
    "\n",
    "# True positives \n",
    "true_positives = tf.keras.metrics.TruePositives()\n",
    "true_positives.update_state(test_y, predictions)\n",
    "print('True positives: ', true_positives.result().numpy())\n",
    "\n",
    "# True negatives\n",
    "true_negatives = tf.keras.metrics.TrueNegatives()\n",
    "true_negatives.update_state(test_y, predictions)\n",
    "print('True negatives: ', true_negatives.result().numpy())"
   ]
  },
  {
   "cell_type": "code",
   "execution_count": 14,
   "metadata": {},
   "outputs": [
    {
     "name": "stdout",
     "output_type": "stream",
     "text": [
      "Specificity on test set: 0.9988393\n",
      "Sensitivity on test set: 0.9989631\n"
     ]
    }
   ],
   "source": [
    "# -------- Specificity and Sensitivity -------- #\n",
    "# Calculate these two important values respectively\n",
    "\n",
    "# Specificity\n",
    "specificity = (true_negatives.result().numpy() / (true_negatives.result().numpy() + false_positives.result().numpy()))\n",
    "\n",
    "# Sensitivity\n",
    "sensitivity = (true_positives.result().numpy() / (true_positives.result().numpy() + false_negatives.result().numpy()))\n",
    "\n",
    "print(\"Specificity on test set: \" + str(specificity))\n",
    "print(\"Sensitivity on test set: \" + str(sensitivity))"
   ]
  }
 ],
 "metadata": {
  "kernelspec": {
   "display_name": "Python 3",
   "language": "python",
   "name": "python3"
  },
  "language_info": {
   "codemirror_mode": {
    "name": "ipython",
    "version": 3
   },
   "file_extension": ".py",
   "mimetype": "text/x-python",
   "name": "python",
   "nbconvert_exporter": "python",
   "pygments_lexer": "ipython3",
   "version": "3.7.3"
  }
 },
 "nbformat": 4,
 "nbformat_minor": 2
}
