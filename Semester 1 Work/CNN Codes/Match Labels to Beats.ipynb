{
 "cells": [
  {
   "cell_type": "code",
   "execution_count": null,
   "metadata": {},
   "outputs": [],
   "source": [
    "# This reads in the arrays for the labels and the beats and matches them up. so each beat will correspond \n",
    "# to a label that is either 0 (no AF) or 1 (has AF). The label array are an array with each value being the \n",
    "# point at which there is an AF beat in the recording (in samples, not seconds).\n",
    "\n",
    "import numpy as np\n",
    "import matplotlib.pyplot as plt\n",
    "import pickle "
   ]
  },
  {
   "cell_type": "code",
   "execution_count": null,
   "metadata": {},
   "outputs": [],
   "source": [
    "# This finds which peak the the Label_location is cloest to so I know which beat the Label_location is talking \n",
    "# about \n",
    "def nearestValue(Peaks,value):\n",
    "    nearest = min(Peaks, key=lambda x:abs(x-value))\n",
    "    return nearest"
   ]
  },
  {
   "cell_type": "code",
   "execution_count": null,
   "metadata": {},
   "outputs": [],
   "source": [
    "\n",
    "\n",
    "for i in range(1,22):\n",
    "    # This is the list that we're putting the beat labels in\n",
    "    Beat_Labels = []\n",
    "    \n",
    "    with open('Beat Segmentation/Segmented Data/{}_beats_array.pkl'.format(i),'rb') as f:\n",
    "        Beats = pickle.load(f)\n",
    "    \n",
    "    with open('Data Extraction/Raw Data/afdb_labels_arrays copy/{}_labels.pkl'.format(i),'rb') as f:\n",
    "        Label_location = pickle.load(f)\n",
    "        \n",
    "        \n",
    "    with open('Data Extraction/Raw Data/afdb_arrays_desc/{}_desc_labels.pkl'.format(i),'rb') as f:\n",
    "        Labels_desc = pickle.load(f)\n",
    "    \n",
    "    # The beats were made using the Peak Arrays so if I find which peak array the label location is closest to\n",
    "    # then I know which beat the label is talking about\n",
    "    with open('Peak Arrays From Pickus/{}_Pickus_R_Peaks.pkl'.format(i),'rb') as f:\n",
    "        Peak_Array = pickle.load(f)\n",
    "    \n",
    "    \n",
    "    # To make it easier to label the beats we will change the labels so if it isn't 'N' we will change it \n",
    "    # to 'AF'\n",
    "    for k,Label in enumerate(Labels_desc):\n",
    "        if not (Label=='(N'):\n",
    "            Labels_desc[k] = 'AF'\n",
    "    \n",
    "    \n",
    "    # This finds which beat the Label_location corresponds to\n",
    "    Labelled_Beat = []\n",
    "    for j in range(len(Label_location)):\n",
    "        # This finds the value that it is nearest to\n",
    "        nearest = nearestValue(Peak_Array,Label_location[j])\n",
    "        # This finds the actual index location of the nearest value (this index location corresponds\n",
    "        # to the beat)\n",
    "        indexPos = Peak_Array.index(nearest)\n",
    "        Labelled_Beat.append(indexPos)\n",
    "        \n",
    "        \n",
    "    #print(Labelled_Beat)\n",
    "    # This is to check that the iterated variable is in Labelled_Beat\n",
    "    Beat_set = set(Labelled_Beat)\n",
    "    \n",
    "    # If the first value of the list is 'N' then I know the next value will be AF, so the heartbeats\n",
    "    # will all be AF until there is another 'N' and they will alternate\n",
    "    Previous_Label = Labels_desc[0]\n",
    "    #print(Previous_Label)\n",
    "    #print(len(Beats))\n",
    "    for L in range(len(Beats)):\n",
    "        \n",
    "        # As there's always a label on beat 1 (0'th index) we don't run the change Previous_Label command below\n",
    "        # as that would instantly change the label to the wrong one and so every other label would be the \n",
    "        # wrong one as well.\n",
    "        if L == 0:\n",
    "            if Previous_Label == '(N':\n",
    "                Beat_Labels.append(0)\n",
    "            else:\n",
    "                Beat_Labels.append(1)\n",
    "        \n",
    "        else:\n",
    "            if Previous_Label == '(N':\n",
    "                Beat_Labels.append(0)\n",
    "            else:\n",
    "                Beat_Labels.append(1)\n",
    "\n",
    "            if L in Beat_set:\n",
    "                if Previous_Label == '(N':\n",
    "                    Previous_Label = 'AF'\n",
    "                else:\n",
    "                    Previous_Label = '(N'\n",
    "                    \n",
    "    with open('{}_Beat_Labels.pkl'.format(i), 'wb') as f:\n",
    "        pickle.dump(Beat_Labels, f)\n",
    "        \n",
    "    \n",
    "    "
   ]
  },
  {
   "cell_type": "markdown",
   "metadata": {},
   "source": [
    "# Everything below here was used as a test to see that it was all working as expected"
   ]
  },
  {
   "cell_type": "code",
   "execution_count": null,
   "metadata": {},
   "outputs": [],
   "source": [
    "with open('{}_Beat_Labels.pkl'.format(1),'rb') as f:\n",
    "        BeatL = pickle.load(f)\n",
    "        \n",
    "Beat1  = BeatL.index(1)\n",
    "print(Beat1)\n",
    "print(len(BeatL))\n",
    "print(BeatL)"
   ]
  },
  {
   "cell_type": "code",
   "execution_count": null,
   "metadata": {},
   "outputs": [],
   "source": []
  },
  {
   "cell_type": "code",
   "execution_count": null,
   "metadata": {},
   "outputs": [],
   "source": [
    "with open('Data Extraction/Raw Data/afdb_arrays_desc/{}_desc_labels.pkl'.format(),'rb') as f:\n",
    "        Labels_desc = pickle.load(f)"
   ]
  },
  {
   "cell_type": "code",
   "execution_count": null,
   "metadata": {},
   "outputs": [],
   "source": [
    "print(Labels_desc)\n",
    "print(Labels_desc[0])"
   ]
  },
  {
   "cell_type": "code",
   "execution_count": null,
   "metadata": {},
   "outputs": [],
   "source": [
    "with open('Beat Segmentation/Segmented Data/{}_beats_array.pkl'.format(1), 'rb') as f:\n",
    "        Beats = pickle.load(f)"
   ]
  },
  {
   "cell_type": "code",
   "execution_count": null,
   "metadata": {},
   "outputs": [],
   "source": [
    "print(len(Beats))"
   ]
  },
  {
   "cell_type": "code",
   "execution_count": null,
   "metadata": {},
   "outputs": [],
   "source": []
  },
  {
   "cell_type": "code",
   "execution_count": null,
   "metadata": {},
   "outputs": [],
   "source": []
  }
 ],
 "metadata": {
  "kernelspec": {
   "display_name": "Python 3",
   "language": "python",
   "name": "python3"
  },
  "language_info": {
   "codemirror_mode": {
    "name": "ipython",
    "version": 3
   },
   "file_extension": ".py",
   "mimetype": "text/x-python",
   "name": "python",
   "nbconvert_exporter": "python",
   "pygments_lexer": "ipython3",
   "version": "3.7.4"
  }
 },
 "nbformat": 4,
 "nbformat_minor": 2
}
