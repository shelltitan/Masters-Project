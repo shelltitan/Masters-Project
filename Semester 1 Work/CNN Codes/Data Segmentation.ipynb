{
 "cells": [
  {
   "cell_type": "code",
   "execution_count": 21,
   "metadata": {},
   "outputs": [],
   "source": [
    "# -------- Code Outline -------- #\n",
    "# Code splits the data into segments\n",
    "# Segments used in Henggui's study split the data\n",
    "# Into 120ms chunks which start at 2/3 RR interval\n",
    "# Of the previous beat\n",
    "\n",
    "import numpy as np\n",
    "import matplotlib.pyplot as plt \n",
    "import pickle"
   ]
  },
  {
   "cell_type": "code",
   "execution_count": 22,
   "metadata": {},
   "outputs": [],
   "source": [
    "# -------- Loading -------- #\n",
    "# Load in all the relevant data\n",
    "\n",
    "# Load in the peaks\n",
    "with open('Peak Arrays From Pickus/8455_Pickus_R_Peaks.pkl', 'rb') as f:\n",
    "    Peaks = pickle.load(f)\n",
    "    \n",
    "# Load in the de-noised original data\n",
    "with open('De-Noised Data/afdb-de noised/8455DN.pkl', 'rb') as f:\n",
    "    Data = pickle.load(f)"
   ]
  },
  {
   "cell_type": "code",
   "execution_count": 23,
   "metadata": {},
   "outputs": [],
   "source": [
    "# -------- Segmentation -------- #\n",
    "# Split the beats up into segments based on the peak array\n",
    "\n",
    "# Find the 2/3rd point of the first peak distance\n",
    "# Then we just segment the data into chunks of 120ms\n",
    "# All starting from the 2/3rd point of the previous interval\n",
    "\n",
    "# 2/3rd into first peak distance\n",
    "initial_point = int(round(Peaks[0] * (2/3)))\n",
    "\n",
    "# Split the data into segmented chunks\n",
    "segments = []\n",
    "\n",
    "# Loop over all the beats, splitting into segments\n",
    "# Do this until every peak has been covered (every beat)\n",
    "\n",
    "beats = len(Peaks)\n",
    "for i in range(1,beats):\n",
    "    # We want segments of 120ms\n",
    "    end_point = (initial_point + 300)\n",
    "    segments.append(Data[initial_point:end_point])\n",
    "    # Now reset the initial point as 2/3rd of the next RR interval\n",
    "    initial_point = (Peaks[i - 1] + int(round((Peaks[i] - Peaks[i - 1]) * (2/3))))\n",
    "#     print(end_point)"
   ]
  },
  {
   "cell_type": "code",
   "execution_count": 24,
   "metadata": {},
   "outputs": [
    {
     "data": {
      "text/plain": [
       "[<matplotlib.lines.Line2D at 0x94e7588>]"
      ]
     },
     "execution_count": 24,
     "metadata": {},
     "output_type": "execute_result"
    },
    {
     "data": {
      "image/png": "[encoded data removed]",
      "text/plain": [
       "<Figure size 432x288 with 1 Axes>"
      ]
     },
     "metadata": {
      "needs_background": "light"
     },
     "output_type": "display_data"
    }
   ],
   "source": [
    "# -------- Plotter -------- #\n",
    "\n",
    "# Plot the segments\n",
    "# plt.plot(Data[:1000])\n",
    "plt.plot(segments[25])\n",
    "# plt.plot(Data[:200])"
   ]
  },
  {
   "cell_type": "code",
   "execution_count": 25,
   "metadata": {},
   "outputs": [],
   "source": [
    "# -------- Data Saved -------- #\n",
    "# Save the segments for this file\n",
    "\n",
    "# Export the segments array as a pickle file\n",
    "\n",
    "filename = '8455_Segments_Old_DWT'\n",
    "\n",
    "# This line uses pickle to save the segments array as a .pkl file\n",
    "\n",
    "with open('{}.pkl'.format(filename), 'wb') as f:\n",
    "     pickle.dump(segments, f)"
   ]
  }
 ],
 "metadata": {
  "kernelspec": {
   "display_name": "Python 3",
   "language": "python",
   "name": "python3"
  },
  "language_info": {
   "codemirror_mode": {
    "name": "ipython",
    "version": 3
   },
   "file_extension": ".py",
   "mimetype": "text/x-python",
   "name": "python",
   "nbconvert_exporter": "python",
   "pygments_lexer": "ipython3",
   "version": "3.7.3"
  }
 },
 "nbformat": 4,
 "nbformat_minor": 2
}
