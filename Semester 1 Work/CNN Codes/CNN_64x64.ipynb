{
 "cells": [
  {
   "cell_type": "code",
   "execution_count": null,
   "metadata": {},
   "outputs": [],
   "source": [
    "import numpy as np \n",
    "import matplotlib.pyplot as plt\n",
    "import tensorflow as tf \n",
    "import keras\n",
    "import pickle\n",
    "from keras.models import Sequential\n",
    "import sys\n",
    "sys.path.append('P:/')\n",
    "from Class_64 import DataGenerator \n",
    "from sklearn.model_selection import train_test_split\n",
    "from keras.layers import Dense, Dropout, Activation, Flatten\n",
    "from keras.layers import Conv2D, MaxPooling2D\n",
    "from keras import optimizers"
   ]
  },
  {
   "cell_type": "code",
   "execution_count": null,
   "metadata": {},
   "outputs": [],
   "source": [
    "# This reads in the list that has the labels. ie if there is at least one AF beat in the 5 beats then the whole\n",
    "# sample is labelled as AF\n",
    "with open('CNN_labels.pkl', 'rb') as f:\n",
    "    Labels = pickle.load(f)\n",
    "    \n",
    "# Need to split the data into training, validation and test sets\n",
    "# This function splits it into training/validation and test sets. So need to use it again to split\n",
    "# into training and validation sets.\n",
    "\n",
    "# The generator works by receiving an index between 1-157054\n",
    "indexes = np.arange(1,157055)\n",
    "\n",
    "X, X_test, y, y_test = train_test_split(indexes, Labels, test_size=0.25, shuffle = False)\n",
    "X_train, X_val, y_train, y_val = train_test_split(X, y, test_size=0.15, shuffle = False)"
   ]
  },
  {
   "cell_type": "code",
   "execution_count": null,
   "metadata": {},
   "outputs": [],
   "source": [
    "# Parameters\n",
    "params = {'dim': (64,64),\n",
    "          'batch_size': 25,\n",
    "          'n_classes': 2,\n",
    "          'n_channels': 5,\n",
    "          'shuffle': True}\n",
    "\n",
    "training_generator = DataGenerator(X_train, y_train , **params)\n",
    "validation_generator = DataGenerator(X_val, y_val, **params)\n",
    "test_generator = DataGenerator(X_test, y_test, **params)"
   ]
  },
  {
   "cell_type": "code",
   "execution_count": null,
   "metadata": {},
   "outputs": [],
   "source": [
    "# Implement a sequential network\n",
    "def createModel():\n",
    "    model = Sequential()\n",
    "    # model.add(Embedding(10000, 256, input_length=400, name='embed'))\n",
    "    model.add(Conv2D(32, (10, 10),  activation='relu', input_shape=(64, 64, 5))),\n",
    "    model.add(Conv2D(32, (10, 10), activation='relu'))\n",
    "    model.add(MaxPooling2D((2, 2)))\n",
    "    model.add(Dropout(0.5)) # Weight decay rate? 1E-6\n",
    "    model.add(Conv2D(32, (6, 6), activation = 'relu'))\n",
    "    model.add(Conv2D(32, (4, 4), activation = 'relu'))\n",
    "    model.add(MaxPooling2D((2,2)))\n",
    "    model.add(Dropout(0.5))\n",
    "    model.add(Flatten())\n",
    "    model.add(Dense(256, activation='relu'))\n",
    "    model.add(Dropout(0.5)),\n",
    "    model.add(Dense(1, activation='sigmoid')) #softmax?\n",
    "    return model"
   ]
  },
  {
   "cell_type": "code",
   "execution_count": null,
   "metadata": {},
   "outputs": [],
   "source": [
    "# Create CNN\n",
    "model = createModel()\n",
    "print(model.summary())\n",
    "# from keras.utils import plot_model\n",
    "# plot_model(model, to_file='CNN_structure.png', show_shapes=True, show_layer_names=False, rankdir='TB')"
   ]
  },
  {
   "cell_type": "code",
   "execution_count": null,
   "metadata": {},
   "outputs": [],
   "source": [
    "sgd = optimizers.SGD(lr=0.001, decay=0.000001, momentum=0.8, nesterov=True)\n",
    "model.compile(optimizer=sgd, loss ='binary_crossentropy', metrics=['mse', 'mae', 'binary_accuracy'])\n",
    "history = model.fit_generator(generator = training_generator, validation_data = validation_generator, epochs=20, verbose = True)"
   ]
  },
  {
   "cell_type": "code",
   "execution_count": null,
   "metadata": {},
   "outputs": [],
   "source": [
    "model.save('CNN_CLUSTER_64_8x8.h5')\n",
    "\n",
    "with open('History_CNN_64_8x8.pkl', 'wb') as f:\n",
    "    pickle.dump(history.history,f)"
   ]
  }
 ],
 "metadata": {
  "kernelspec": {
   "display_name": "Python 3",
   "language": "python",
   "name": "python3"
  },
  "language_info": {
   "codemirror_mode": {
    "name": "ipython",
    "version": 3
   },
   "file_extension": ".py",
   "mimetype": "text/x-python",
   "name": "python",
   "nbconvert_exporter": "python",
   "pygments_lexer": "ipython3",
   "version": "3.7.4"
  }
 },
 "nbformat": 4,
 "nbformat_minor": 2
}
