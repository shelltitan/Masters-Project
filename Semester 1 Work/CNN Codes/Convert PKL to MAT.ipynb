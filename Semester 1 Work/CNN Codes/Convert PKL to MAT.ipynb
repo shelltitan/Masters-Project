{
 "cells": [
  {
   "cell_type": "code",
   "execution_count": null,
   "metadata": {},
   "outputs": [],
   "source": [
    "# -------- Convert .pkl files to .mat files -------- \n",
    "# This was used to convert the beat arrays stored as .pkl files into .mat files for the CWT on matlab"
   ]
  },
  {
   "cell_type": "code",
   "execution_count": 3,
   "metadata": {},
   "outputs": [],
   "source": [
    "import numpy as np\n",
    "import pickle \n",
    "import scipy\n",
    "import scipy.io"
   ]
  },
  {
   "cell_type": "code",
   "execution_count": 4,
   "metadata": {},
   "outputs": [],
   "source": [
    "# This loops over every file and converts it a a \n",
    "for i in range(1,22):\n",
    "    # This opens the file to be converted into a .mat file\n",
    "    with open('Beat Segmentation/Segmented Data/{}_beats_array.pkl'.format(i),'rb') as f:\n",
    "        Beats = pickle.load(f)\n",
    "   \n",
    "    # This saves the file as a .mat file. I have to switch the order of the naming so that the file doesn't\n",
    "    # start with a number as this causes an error in MATLAB \n",
    "    scipy.io.savemat('Beats_array_{}.mat'.format(i), mdict={'Beats_array_{}'.format(i): Beats})"
   ]
  },
  {
   "cell_type": "code",
   "execution_count": null,
   "metadata": {},
   "outputs": [],
   "source": []
  }
 ],
 "metadata": {
  "kernelspec": {
   "display_name": "Python 3",
   "language": "python",
   "name": "python3"
  },
  "language_info": {
   "codemirror_mode": {
    "name": "ipython",
    "version": 3
   },
   "file_extension": ".py",
   "mimetype": "text/x-python",
   "name": "python",
   "nbconvert_exporter": "python",
   "pygments_lexer": "ipython3",
   "version": "3.7.4"
  }
 },
 "nbformat": 4,
 "nbformat_minor": 2
}
