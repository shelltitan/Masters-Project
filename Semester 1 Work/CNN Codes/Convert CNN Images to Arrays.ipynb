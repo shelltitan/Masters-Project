{
 "cells": [
  {
   "cell_type": "code",
   "execution_count": null,
   "metadata": {},
   "outputs": [],
   "source": [
    "# First import relevant modules\n",
    "import numpy as np\n",
    "import os\n",
    "import random\n",
    "import PIL\n",
    "from PIL import Image\n",
    "import pickle"
   ]
  },
  {
   "cell_type": "code",
   "execution_count": null,
   "metadata": {},
   "outputs": [],
   "source": [
    "# Now load in the AF beats and convert to arrays\n",
    "# This reads in the list that has the name of 5 beats in each index of the list. \n",
    "with open('CNN_input.pkl', 'rb') as f:\n",
    "    CNN_input = pickle.load(f)\n",
    "    \n",
    "print(CNN_input.shape)\n",
    "print(type(CNN_input[0][0]))"
   ]
  },
  {
   "cell_type": "code",
   "execution_count": null,
   "metadata": {},
   "outputs": [],
   "source": [
    "# Need to loop over and add extra directory for extra folder\n",
    "\n",
    "new_input_total = []\n",
    "\n",
    "for c,i in enumerate(CNN_input):\n",
    "    \n",
    "    new_input_sample = []\n",
    "    \n",
    "    for k,j in enumerate(i):\n",
    "        if (j[0] == 'N'):\n",
    "            x = \"Normal_Beats_jpg/\" + CNN_input[c][k]\n",
    "        else:\n",
    "            x = \"AF_Beats_jpg/\" + CNN_input[c][k]\n",
    "        new_input_sample.append(x)\n",
    "\n",
    "    new_input_total.append(new_input_sample)"
   ]
  },
  {
   "cell_type": "code",
   "execution_count": null,
   "metadata": {},
   "outputs": [],
   "source": [
    "print(len(new_input_total[10000]))\n",
    "print(np.array(new_input_total).shape)"
   ]
  },
  {
   "cell_type": "code",
   "execution_count": null,
   "metadata": {},
   "outputs": [],
   "source": [
    "array_inputs = []\n",
    "\n",
    "for i, sample in enumerate(new_input_total):\n",
    "    \n",
    "#     print(sample)\n",
    "    for k in range(5):\n",
    "        if k == 0:\n",
    "            # Read in the jpg and resize the image\n",
    "            CWT_first = Image.open(sample[k])\n",
    "            # Resize it \n",
    "            CWT_first_resized = CWT_first.resize((64, 64))\n",
    "            # This converts the image to an array \n",
    "            CWT_array_first = np.array(CWT_first_resized,dtype=np.float32)\n",
    "            # Normalise\n",
    "            CWT_array_first -= CWT_array_first.min()\n",
    "            CWT_array_first /= (CWT_array_first.max() - CWT_array_first.min())\n",
    "            # This changes it to the shape (128,128,1)\n",
    "            CWT_array = CWT_array_first[:,:,np.newaxis]\n",
    "                    \n",
    "        else:\n",
    "            # Read in the jpg and resize the first image\n",
    "            CWT_others = Image.open(sample[k])\n",
    "            # Resize it \n",
    "            CWT_others_resized = CWT_others.resize((64, 64)) \n",
    "            # This converts the image to an array \n",
    "            CWT_array_others = np.array(CWT_others_resized,dtype=np.float32)\n",
    "            # Normalise\n",
    "            CWT_array_others -= CWT_array_others.min()\n",
    "            CWT_array_others /= (CWT_array_others.max() - CWT_array_others.min())\n",
    "            # This changes it to the shape (128,128,1)\n",
    "            CWT_array_temp = CWT_array_others[:,:,np.newaxis]\n",
    "                    \n",
    "            # This stacks them onto the other CWT_array to end up with an array of shape (128,128,5)\n",
    "            CWT_array = np.concatenate((CWT_array,CWT_array_temp),axis=-1)\n",
    "            \n",
    "    print(i)\n",
    "    \n",
    "    # Save each input array into a new folder\n",
    "    filename = 'Sample_' + str(i + 1)\n",
    "    directory = 'CNN Input Arrays/' + filename\n",
    "    np.save(directory, CWT_array)\n",
    "    \n",
    "print(len(array_inputs))"
   ]
  }
 ],
 "metadata": {
  "kernelspec": {
   "display_name": "Python 3",
   "language": "python",
   "name": "python3"
  },
  "language_info": {
   "codemirror_mode": {
    "name": "ipython",
    "version": 3
   },
   "file_extension": ".py",
   "mimetype": "text/x-python",
   "name": "python",
   "nbconvert_exporter": "python",
   "pygments_lexer": "ipython3",
   "version": "3.7.4"
  }
 },
 "nbformat": 4,
 "nbformat_minor": 2
}
